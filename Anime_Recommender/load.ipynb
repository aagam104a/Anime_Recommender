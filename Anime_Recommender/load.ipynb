{
 "cells": [
  {
   "cell_type": "code",
   "execution_count": 1,
   "metadata": {},
   "outputs": [
    {
     "name": "stdout",
     "output_type": "stream",
     "text": [
      "Cowboy Bebop: Tengoku no Tobira: Similarity Score - 0.21653439466297222\n",
      "Ginga Senpuu Braiger: Similarity Score - 0.18295652694681533\n",
      "Cowboy Bebop: Ein no Natsuyasumi: Similarity Score - 0.13199442117011528\n",
      "Odin: Koushi Hansen Starlight: Similarity Score - 0.1175233235480962\n",
      "Cowboy Bebop: Yose Atsume Blues: Similarity Score - 0.11106734571251353\n",
      "Seihou Bukyou Outlaw Star: Similarity Score - 0.10947784242198612\n",
      "Sol Bianca: Taiyou no Fune: Similarity Score - 0.1070937739333939\n",
      "Uchuu no Stellvia: Similarity Score - 0.09812898766860653\n",
      "Sei Juushi Bismarck: Similarity Score - 0.0942228419114443\n",
      "Ginga Shippuu Sasuraiger: Similarity Score - 0.09271177096787514\n"
     ]
    }
   ],
   "source": [
    "import joblib\n",
    "from sklearn.metrics.pairwise import cosine_similarity\n",
    "\n",
    "# Load TF-IDF vectorizer\n",
    "vectorizer = joblib.load('tfidf_vectorizer.pkl')\n",
    "\n",
    "# Load cosine similarity matrix\n",
    "tfidf_matrix = joblib.load('cosine_similarity_matrix.pkl')\n",
    "\n",
    "# Load anime_names list\n",
    "anime_names = joblib.load('anime_names.pkl')\n",
    "\n",
    "# Function to recommend similar anime\n",
    "def recommend_similar_anime(anime_name, top_n=10):\n",
    "    # Find index of input anime\n",
    "    try:\n",
    "        index = anime_names.index(anime_name)\n",
    "    except ValueError:\n",
    "        return \"Anime not found in database\"\n",
    "    \n",
    "    # Calculate cosine similarity between input anime and all other anime\n",
    "    similarities = cosine_similarity(tfidf_matrix[index:index+1], tfidf_matrix).flatten()\n",
    "    \n",
    "    # Get top n similar anime indices\n",
    "    similar_indices = similarities.argsort()[-top_n-1:-1][::-1]\n",
    "    \n",
    "    # Generate recommendations\n",
    "    recommendations = [(anime_names[i], similarities[i]) for i in similar_indices]\n",
    "    \n",
    "    return recommendations\n",
    "\n",
    "# Example usage\n",
    "anime_name = input(str(\"Enter an anime name: \"))\n",
    "recommendations = recommend_similar_anime(anime_name)\n",
    "for anime, similarity in recommendations:\n",
    "    print(f\"{anime}: Similarity Score - {similarity}\")"
   ]
  }
 ],
 "metadata": {
  "kernelspec": {
   "display_name": ".venv",
   "language": "python",
   "name": "python3"
  },
  "language_info": {
   "codemirror_mode": {
    "name": "ipython",
    "version": 3
   },
   "file_extension": ".py",
   "mimetype": "text/x-python",
   "name": "python",
   "nbconvert_exporter": "python",
   "pygments_lexer": "ipython3",
   "version": "3.9.2rc1"
  }
 },
 "nbformat": 4,
 "nbformat_minor": 2
}
