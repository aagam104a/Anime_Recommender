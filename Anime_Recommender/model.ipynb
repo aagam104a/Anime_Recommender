{
 "cells": [
  {
   "cell_type": "markdown",
   "metadata": {},
   "source": [
    "# **MODEL CREATION AND EXPORT**"
   ]
  },
  {
   "cell_type": "code",
   "execution_count": null,
   "metadata": {},
   "outputs": [],
   "source": [
    "import pandas as pd\n",
    "from gensim.models import TfidfModel\n",
    "from gensim.corpora import Dictionary\n",
    "from gensim.similarities import MatrixSimilarity\n",
    "\n",
    "class AnimeRecommender:\n",
    "    def __init__(self, anime_df):\n",
    "        self.df = anime_df.copy()\n",
    "        self.documents = [doc.split() for doc in self.df['Synopsis']]\n",
    "        self.dictionary = Dictionary(self.documents)\n",
    "        self.corpus = [self.dictionary.doc2bow(doc) for doc in self.documents]\n",
    "        self.tfidf = TfidfModel(self.corpus)\n",
    "        self.index = MatrixSimilarity(self.tfidf[self.corpus])\n",
    "\n",
    "    def recommend_anime(self, anime_name):\n",
    "        idx = self.df[self.df['Name'] == anime_name].index[0]\n",
    "        sims = self.index[self.tfidf[self.dictionary.doc2bow(self.documents[idx])]]\n",
    "        sims = sorted(enumerate(sims), key=lambda item: -item[1])\n",
    "        sim_indices = [i[0] for i in sims]\n",
    "        return self.df['Name'].iloc[sim_indices[1:11]]  # Exclude the input anime itself\n",
    "\n",
    "    def save_model(self, filepath):\n",
    "        model_data = {\n",
    "            \"documents\": self.documents,\n",
    "            \"dictionary\": self.dictionary,\n",
    "            \"corpus\": self.corpus,\n",
    "            \"tfidf_model\": self.tfidf,\n",
    "            \"index\": self.index,\n",
    "        }\n",
    "        pd.to_pickle(model_data, filepath)\n",
    "\n",
    "# Load the dataset\n",
    "anime_df = pd.read_csv(r\"anime.csv\")\n",
    "\n",
    "# Create and export the model\n",
    "recommender = AnimeRecommender(anime_df)\n",
    "recommender.save_model(\"anime_recommender_model.pkl\")\n"
   ]
  }
 ],
 "metadata": {
  "kernelspec": {
   "display_name": ".venv",
   "language": "python",
   "name": "python3"
  },
  "language_info": {
   "codemirror_mode": {
    "name": "ipython",
    "version": 3
   },
   "file_extension": ".py",
   "mimetype": "text/x-python",
   "name": "python",
   "nbconvert_exporter": "python",
   "pygments_lexer": "ipython3",
   "version": "3.9.2rc1"
  }
 },
 "nbformat": 4,
 "nbformat_minor": 2
}
